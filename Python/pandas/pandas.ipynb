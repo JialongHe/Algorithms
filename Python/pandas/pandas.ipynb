{
 "cells": [
  {
   "cell_type": "code",
   "execution_count": 2,
   "metadata": {},
   "outputs": [],
   "source": [
    "import pandas as pd\n",
    "import numpy as np"
   ]
  },
  {
   "cell_type": "code",
   "execution_count": 8,
   "metadata": {},
   "outputs": [
    {
     "data": {
      "text/plain": [
       "pandas.core.frame.DataFrame"
      ]
     },
     "execution_count": 8,
     "metadata": {},
     "output_type": "execute_result"
    }
   ],
   "source": [
    "df = pd.DataFrame([[1, 2], [3, 4]], columns=['A', 'B'])\n",
    "titanic = pd.read_csv('titanic.csv')\n",
    "type(titanic)\n",
    "# parquet = pd.read_parquet('titanic.parquet')"
   ]
  },
  {
   "cell_type": "code",
   "execution_count": 42,
   "metadata": {},
   "outputs": [
    {
     "data": {
      "text/plain": [
       "'\\nfor index, row in titanic.iterrows():\\n    print(index)\\n    print(row[\\'Name\\'])\"\\n'"
      ]
     },
     "execution_count": 42,
     "metadata": {},
     "output_type": "execute_result"
    }
   ],
   "source": [
    "\"\"\"\n",
    "df.head(1)\n",
    "df.tail(1)\n",
    "df.columns\n",
    "df.index\n",
    "df.index.to_list()\n",
    "titanic.info()\n",
    "df.describe()\n",
    "\"\"\"\n",
    "# titanic.sample(3, random_state=1)\n",
    "# titanic.loc[0:2, ['Name']] # = \"new value\"\n",
    "# titanic.at[0, 'Name']   # specific value\n",
    "# titanic.Name # titanic['Name']\n",
    "# titanic.sort_values(by='Age', ascending=False)\n",
    "# titanic[titanic['Age'] > 35]\n",
    "# titanic.loc[titanic['Age'] > 35, ['Name', 'Age']]\n",
    "# titanic[titanic['Name'].str.contains('Mr.', case=False)]\n",
    "# titanic[titanic['Name'].isin(['Braund, Mr. Owen Harris', 'Heikkinen, Miss. Laina'])]\n",
    "# titanic.query('Age > 60')\n",
    "\"\"\"\n",
    "for index, row in titanic.iterrows():\n",
    "    print(index)\n",
    "    print(row['Name'])\"\n",
    "\"\"\"\n",
    "# titanic['Age'] = titanic['Age'].fillna(titanic['Age'].mean())\n",
    "# titanic['Age'] = np.where(titanic['Age'].isnull(), titanic['Age'].mean(), titanic['Age'])\n",
    "# titanic.drop(columns=['Cabin'], inplace=True)\n",
    "\n",
    "# titanic = titanic.copy()\n",
    "# titanic['new'] = titanic['Age'] + 10\n",
    "# titanic.rename(columns={'Name': 'Full Name'}, inplace=True)\n",
    "# titanic['First Name'] = titanic['Name'].str.split(',').str.get(0)\n",
    "# titanic['Datetime'] = pd.to_datetime(titanic['Datetime']).dt.year\n",
    "\n",
    "# titanic.to_csv('./titanic_new.csv', index=False)"
   ]
  },
  {
   "cell_type": "code",
   "execution_count": null,
   "metadata": {},
   "outputs": [
    {
     "data": {
      "text/plain": [
       "Age\n",
       "NaN      52.0\n",
       "0.42      1.0\n",
       "0.67      1.0\n",
       "0.75      2.0\n",
       "0.83      2.0\n",
       "         ... \n",
       "70.00     0.0\n",
       "70.50     0.0\n",
       "71.00     0.0\n",
       "74.00     0.0\n",
       "80.00     1.0\n",
       "Length: 89, dtype: float64"
      ]
     },
     "execution_count": 52,
     "metadata": {},
     "output_type": "execute_result"
    }
   ],
   "source": [
    "# titanic['new_lambda'] = titanic['Age'].apply(lambda x: x + 10)\n",
    "\n",
    "# pd.merge(titanic, df, left_on='Age', right_on='A', how='inner')\n",
    "\n",
    "# titanic[0: 1]['Age'] = np.nan\n",
    "# titanic.dropna(subset=['Age'], inplace=True)\n",
    "# titanic[titanic['Age'].isna()]\n",
    "\n",
    "# titanic['Cabin'].value_counts()\n",
    "# titanic.groupby(['Age'])[[\"Survived\"]].sum()\n",
    "# titanic.groupby(['Age']).agg({'Survived': 'sum', 'Fare': 'mean'})\n",
    "# titanic.pivot(columns='Age', values='Survived')\n",
    "\n",
    "# titanic['last_age'] = titanic['Age'].shift(1)\n",
    "# titanic['age_ranke'] = titanic['Age'].rank(method='min')\n",
    "# titanic.rolling(window=2)['Age'].mean()"
   ]
  },
  {
   "cell_type": "code",
   "execution_count": 3,
   "metadata": {},
   "outputs": [
    {
     "data": {
      "text/plain": [
       "'2.2.3'"
      ]
     },
     "execution_count": 3,
     "metadata": {},
     "output_type": "execute_result"
    }
   ],
   "source": [
    "pd.__version__"
   ]
  },
  {
   "cell_type": "code",
   "execution_count": null,
   "metadata": {},
   "outputs": [],
   "source": [
    "titanic = pd.read_csv('titanic.csv', engine=\"pyarrow\", dtype_backend=\"pyarrow\")"
   ]
  }
 ],
 "metadata": {
  "kernelspec": {
   "display_name": "Python 3",
   "language": "python",
   "name": "python3"
  },
  "language_info": {
   "codemirror_mode": {
    "name": "ipython",
    "version": 3
   },
   "file_extension": ".py",
   "mimetype": "text/x-python",
   "name": "python",
   "nbconvert_exporter": "python",
   "pygments_lexer": "ipython3",
   "version": "3.10.0"
  }
 },
 "nbformat": 4,
 "nbformat_minor": 2
}
